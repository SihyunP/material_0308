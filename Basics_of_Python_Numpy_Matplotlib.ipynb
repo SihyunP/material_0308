{
 "cells": [
  {
   "cell_type": "markdown",
   "metadata": {},
   "source": [
    "# IoT·인공지능·빅데이터 개론 및 실습 (M2177.004900_001) <br> 3/6 Basics of Python, Numpy, and Matplotlib\n",
    "\n",
    "Adapted by Seonwoo Min from the IPython version of the `CS231n` Python tutorial (http://cs231n.github.io/python-numpy-tutorial/).\n",
    "* 2019/3/6 Byunggook Na edited typos and refinded the contents.\n",
    "\n",
    "In this excercise, we will cover:\n",
    "\n",
    "* Basic Python: List, Dictionary, Function, Class\n",
    "* Numpy: Array, Array indexing, Array math\n",
    "* Matplotlib: Plotting, Subplot"
   ]
  },
  {
   "cell_type": "markdown",
   "metadata": {},
   "source": [
    "## 1. Basic Python"
   ]
  },
  {
   "cell_type": "markdown",
   "metadata": {},
   "source": [
    "### List\n",
    "A list is the Python equivalent of an array, but is resizeable and can contain elements of different types"
   ]
  },
  {
   "cell_type": "code",
   "execution_count": null,
   "metadata": {},
   "outputs": [],
   "source": [
    "#############################################################\n",
    "# General Usage\n",
    "#############################################################\n",
    "xs = [3, 1, 2]\n",
    "\n",
    "# Print the last indice\n",
    "# Negative indices count from the end of the list\n",
    "print() \n",
    "\n",
    "# Add a new element to the end of the list\n",
    "\n",
    "print(xs)  \n",
    "\n",
    "# Remove and return the last element of the list\n",
    "x =    \n",
    "print(x, xs)"
   ]
  },
  {
   "cell_type": "code",
   "execution_count": null,
   "metadata": {},
   "outputs": [],
   "source": [
    "#############################################################\n",
    "# Slicing\n",
    "#############################################################\n",
    "# Create a list containing [0, 1, 2, 3, 4]\n",
    "# range() is a built-in function that creates a list of integers\n",
    "nums =   \n",
    "print(nums)        \n",
    "\n",
    "# Get a slice from index 2 to 4 (exclusive); prints \"[2, 3]\"\n",
    "print()\n",
    "\n",
    "# Get a slice from index 2 to the end; prints \"[2, 3, 4]\"\n",
    "print()    \n",
    "\n",
    "# Get a slice from the start to index 2 (exclusive); prints \"[0, 1]\"\n",
    "print()    \n",
    "\n",
    "# Get a slice of the whole list; prints [\"0, 1, 2, 3, 4]\"\n",
    "print()     \n",
    "\n",
    "# Assign a new sublist to a slice; change nums into [0, 1, 8, 9, 4]\n",
    "\n",
    "print(nums)       "
   ]
  },
  {
   "cell_type": "code",
   "execution_count": null,
   "metadata": {},
   "outputs": [],
   "source": [
    "#############################################################\n",
    "# Loop & Enumerate\n",
    "#############################################################\n",
    "animals = ['cat', 'dog', 'monkey']\n",
    "\n",
    "# Loop over and print the elements of the list:\n",
    "   \n",
    "    \n",
    "# Loop over and print the index and value of each elements of the list:\n",
    "\n"
   ]
  },
  {
   "cell_type": "code",
   "execution_count": null,
   "metadata": {},
   "outputs": [],
   "source": [
    "#############################################################\n",
    "# List comprehensions\n",
    "#############################################################\n",
    "nums = [0, 1, 2, 3, 4]\n",
    "squares = []\n",
    "for x in nums:\n",
    "    squares.append(x ** 2)\n",
    "print(squares)\n",
    "\n",
    "# Make this code simpler using a list comprehension\n",
    "squares = \n",
    "print(squares)\n",
    "\n",
    "# Make a list of squares of even numbers in the list\n",
    "# List comprehensions can also contain conditions\n",
    "even_squares = \n",
    "print(even_squares)"
   ]
  },
  {
   "cell_type": "markdown",
   "metadata": {},
   "source": [
    "### Dictionary\n",
    "A dictionary stores (key, value) pairs"
   ]
  },
  {
   "cell_type": "code",
   "execution_count": null,
   "metadata": {},
   "outputs": [],
   "source": [
    "#############################################################\n",
    "# General Usage\n",
    "#############################################################\n",
    "# Create a dictionary containing the followings key:value pairs\n",
    "# cat:cute  /  dog:furry\n",
    "d = {'cat': 'cute', 'dog': 'furry'} \n",
    "\n",
    "# print an entry 'cat' from a dictionary; prints 'cute'\n",
    "print()      \n",
    "\n",
    "# Add another key:value pair\n",
    "# fish:wet\n",
    "\n",
    "# Get an element with a default parameter; return \"N/A\" if not exists\n",
    "# fish / monkey\n",
    "print()    \n",
    "print()  \n",
    "\n",
    "# Remove 'fish' from the dictionary\n",
    "   \n",
    "print(d)"
   ]
  },
  {
   "cell_type": "code",
   "execution_count": null,
   "metadata": {},
   "outputs": [],
   "source": [
    "#############################################################\n",
    "# Loop & Dictionary comprehensions\n",
    "#############################################################\n",
    "d = {'person': 2, 'cat': 4, 'spider': 8}\n",
    "\n",
    "# Loop over keys of the dictionary\n",
    "# Access the values with the keys\n",
    "for\n",
    "    legs\n",
    "    print('A %s has %d legs' % (animal, legs))\n",
    "    \n",
    "# Loop over keys and values of the dictionary\n",
    "for :\n",
    "    print('A %s has %d legs' % (animal, legs))\n",
    "\n",
    "# Make a dictionary of key:squares of even numbers in the list\n",
    "# Dictionary comprehensions can also contain conditions\n",
    "nums = [0, 1, 2, 3, 4]\n",
    "even_num_to_square = \n",
    "print(even_num_to_square)"
   ]
  },
  {
   "cell_type": "markdown",
   "metadata": {},
   "source": [
    "### Function\n",
    "Python functions are defined using the `def` keyword"
   ]
  },
  {
   "cell_type": "code",
   "execution_count": null,
   "metadata": {},
   "outputs": [],
   "source": [
    "#############################################################\n",
    "# General Usage\n",
    "#############################################################\n",
    "# Define a function called sign() with argument x\n",
    "# return 'positive' if x > 0\n",
    "# return 'negative' if x < 0\n",
    "# return 'zero' if x = 0\n",
    "\n",
    "\n",
    "for x in [-1, 0, 1]:\n",
    "    print(sign(x))"
   ]
  },
  {
   "cell_type": "code",
   "execution_count": null,
   "metadata": {},
   "outputs": [],
   "source": [
    "#############################################################\n",
    "# Optional keyword argument\n",
    "#############################################################\n",
    "# Define a function called hello()\n",
    "# argument: name\n",
    "# optional argument: loud (with default value False)\n",
    "# print \"HELLO, [name in large letter]\" if loud = True\n",
    "# print \"HELLO, [name in given form]\" if loud = False\n",
    "    \n",
    "        \n",
    "hello('Bob')\n",
    "hello('Fred', loud=True)"
   ]
  },
  {
   "cell_type": "markdown",
   "metadata": {},
   "source": [
    "### Class\n",
    "Python classes are defined using the `class` keyword"
   ]
  },
  {
   "cell_type": "code",
   "execution_count": null,
   "metadata": {},
   "outputs": [],
   "source": [
    "#############################################################\n",
    "# General Usage\n",
    "#############################################################\n",
    "# Define a class called Greeter\n",
    "# Initialize its member variable <self.name> with a argument <name> whose default value is \"None\"\n",
    "# Define its member function called greet() that prints statements as in the above Function example\n",
    "\n",
    "\n",
    "g1 = Greeter('Fred')  \n",
    "g1.greet()            \n",
    "g1.greet(loud=True)  \n",
    "\n",
    "g2 = Greeter()  \n",
    "g2.greet()            \n",
    "g2.greet(loud=True)  "
   ]
  },
  {
   "cell_type": "markdown",
   "metadata": {},
   "source": [
    "## 2. Numpy"
   ]
  },
  {
   "cell_type": "code",
   "execution_count": null,
   "metadata": {},
   "outputs": [],
   "source": [
    "import numpy as np"
   ]
  },
  {
   "cell_type": "markdown",
   "metadata": {},
   "source": [
    "### Array\n",
    "A numpy array is a grid of values, all of the same type, and is indexed by a tuple of nonnegative integers."
   ]
  },
  {
   "cell_type": "code",
   "execution_count": null,
   "metadata": {},
   "outputs": [],
   "source": [
    "# Create an 2-by-2 array of all zeros \n",
    "a = \n",
    "print(a)\n",
    "\n",
    "# Create an 2-by-2 array of all ones \n",
    "a = \n",
    "print(a)\n",
    "\n",
    "# Create an 2-by-2 array with random numbers\n",
    "a = \n",
    "print(a)\n",
    "\n",
    "# Create an 1-by-6 array with elements 1 to 6\n",
    "a = \n",
    "print(a)\n",
    "\n",
    "#Create a rank 2 array with elements 1 to 6\n",
    "b = \n",
    "print(b)\n",
    "\n",
    "# print shape of the array\n",
    "print()    \n",
    "\n",
    "# print the element in the 1 in 1st index and 0 in 2nd index\n",
    "print()"
   ]
  },
  {
   "cell_type": "markdown",
   "metadata": {},
   "source": [
    "### Array indexing\n",
    "Since arrays may be multidimensional, you must specify a slice for each dimension of the array"
   ]
  },
  {
   "cell_type": "code",
   "execution_count": null,
   "metadata": {},
   "outputs": [],
   "source": [
    "# Create an 3-by-4 array with elements 1 to 12\n",
    "# Use reshape\n",
    "a = \n",
    "print(a)\n",
    "\n",
    "# Use slicing to pull out the subarray consisting of the first two rows and columns 1 and 2; \n",
    "# and modify [0, 0] element of the array b into 0\n",
    "b = \n",
    "print(b)\n",
    "\n",
    "print(b[0,0], a[0, 1])\n",
    "b[0,0] = 2 # reset\n",
    "\n",
    "# Instead create an array with the subarray consisting of the first two rows and columns 1 and 2; \n",
    "# and modify [0, 0] element of the array b into 0\n",
    "b = \n",
    "print(b)\n",
    "\n",
    "print(b[0,0], a[0, 1])\n",
    "\n",
    "# Get elements located by the [0, 2, 1] indices from each row of a matrix: [0,0], [1,2], [2,1]\n",
    "\n",
    "print()\n",
    "\n",
    "# Add 10 to the [0, 2, 1] indices from each row of a matrix\n",
    "\n",
    "print(a)"
   ]
  },
  {
   "cell_type": "markdown",
   "metadata": {},
   "source": [
    "### Array math\n",
    "Basic mathematical functions operate elementwise on arrays, and are available both as operator overloads and as functions in the numpy module"
   ]
  },
  {
   "cell_type": "code",
   "execution_count": null,
   "metadata": {},
   "outputs": [],
   "source": [
    "#############################################################\n",
    "# General Usage\n",
    "#############################################################\n",
    "x = np.array([[1,2],[3,4]], dtype=np.float64)\n",
    "y = np.array([[5,6],[7,8]], dtype=np.float64)\n",
    "\n",
    "# Elementwise product of x and y\n",
    "z =\n",
    "print(z)\n",
    "\n",
    "# Matrix product of x and y\n",
    "z = \n",
    "print(z)\n",
    "\n",
    "# Compute sum of all elements in x\n",
    "z = \n",
    "print(z)  \n",
    "\n",
    "# Compute sum of each column in x;\n",
    "z = \n",
    "print(z) \n",
    "\n",
    "# Compute sum of each row in x\n",
    "z = \n",
    "print(z) "
   ]
  },
  {
   "cell_type": "code",
   "execution_count": null,
   "metadata": {},
   "outputs": [],
   "source": [
    "#############################################################\n",
    "# Broadcasting\n",
    "#############################################################\n",
    "x = np.array([[1,2,3], [4,5,6], [7,8,9], [10, 11, 12]])\n",
    "v = np.array([1, 0, 1])\n",
    "y = np.empty_like(x) \n",
    "\n",
    "# Add the vector v to each row of the matrix x with an explicit loop\n",
    "\n",
    "\n",
    "print(y)\n",
    "\n",
    "# Add the vector v to each row of the matrix x with stacking v multiple times\n",
    "vv = \n",
    "y = \n",
    "print(y)\n",
    "\n",
    "# Add the vector v to each row of the matrix x with broadcasting\n",
    "y = \n",
    "print(y)\n",
    "\n",
    "# Multiply matrix x by a constant 2:\n",
    "z = \n",
    "print(z)"
   ]
  },
  {
   "cell_type": "markdown",
   "metadata": {},
   "source": [
    "## 3. Matplotlib"
   ]
  },
  {
   "cell_type": "markdown",
   "metadata": {},
   "source": [
    "Matplotlib is a plotting library. In this section give a brief introduction to the `matplotlib.pyplot` module."
   ]
  },
  {
   "cell_type": "code",
   "execution_count": null,
   "metadata": {},
   "outputs": [],
   "source": [
    "import matplotlib.pyplot as plt\n",
    "\n",
    "#By running this special iPython command, we will be displaying plots inline:\n",
    "%matplotlib inline"
   ]
  },
  {
   "cell_type": "markdown",
   "metadata": {},
   "source": [
    "### Plotting\n",
    "The most important function in `matplotlib` is plot, which allows you to plot 2D data. Here is a simple example:"
   ]
  },
  {
   "cell_type": "code",
   "execution_count": null,
   "metadata": {},
   "outputs": [],
   "source": [
    "# Compute the x and y coordinates for points on a sine curve\n",
    "x = np.arange(0, 3 * np.pi, 0.3)\n",
    "y = np.sin(x)"
   ]
  },
  {
   "cell_type": "code",
   "execution_count": null,
   "metadata": {},
   "outputs": [],
   "source": [
    "# Plot the points using matplotlib\n",
    "plt.plot(x, y, '-')"
   ]
  },
  {
   "cell_type": "code",
   "execution_count": null,
   "metadata": {},
   "outputs": [],
   "source": [
    "# Plot the points using matplotlib\n",
    "plt.plot(x, y, 'o')"
   ]
  },
  {
   "cell_type": "code",
   "execution_count": null,
   "metadata": {},
   "outputs": [],
   "source": [
    "# Plot the points using matplotlib\n",
    "plt.plot(x, y, '-o')"
   ]
  },
  {
   "cell_type": "code",
   "execution_count": null,
   "metadata": {},
   "outputs": [],
   "source": [
    "y_sin = np.sin(x)\n",
    "y_cos = np.cos(x)\n",
    "\n",
    "# Plot the points using matplotlib\n",
    "plt.plot(x, y_sin)\n",
    "plt.plot(x, y_cos)\n",
    "plt.xlabel('x axis label')\n",
    "plt.ylabel('y axis label')\n",
    "plt.title('Sine and Cosine')\n",
    "plt.legend(['Sine', 'Cosine'])"
   ]
  },
  {
   "cell_type": "markdown",
   "metadata": {},
   "source": [
    "### Subplots \n",
    "You can plot different things in the same figure using the subplot function. Here is an example:"
   ]
  },
  {
   "cell_type": "code",
   "execution_count": null,
   "metadata": {},
   "outputs": [],
   "source": [
    "# Compute the x and y coordinates for points on sine and cosine curves\n",
    "x = np.arange(0, 3 * np.pi, 0.1)\n",
    "y_sin = np.sin(x)\n",
    "y_cos = np.cos(x)\n",
    "\n",
    "# Set up a subplot grid that has height 2 and width 1,\n",
    "# and set the first such subplot as active, and make the first plot.\n",
    "plt.subplot(2, 1, 1)\n",
    "plt.plot(x, y_sin)\n",
    "plt.title('Sine')\n",
    "\n",
    "# Set the second subplot as active, and make the second plot.\n",
    "plt.subplot(2, 1, 2)\n",
    "plt.plot(x, y_cos)\n",
    "plt.title('Cosine')\n",
    "\n",
    "# Show the figure.\n",
    "plt.show()"
   ]
  }
 ],
 "metadata": {
  "kernelspec": {
   "display_name": "Python 3",
   "language": "python",
   "name": "python3"
  },
  "language_info": {
   "codemirror_mode": {
    "name": "ipython",
    "version": 3
   },
   "file_extension": ".py",
   "mimetype": "text/x-python",
   "name": "python",
   "nbconvert_exporter": "python",
   "pygments_lexer": "ipython3",
   "version": "3.5.2"
  }
 },
 "nbformat": 4,
 "nbformat_minor": 2
}
